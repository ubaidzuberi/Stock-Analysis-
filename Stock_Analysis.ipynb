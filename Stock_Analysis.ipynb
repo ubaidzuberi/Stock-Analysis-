{
  "cells": [
    {
      "cell_type": "code",
      "execution_count": 2,
      "metadata": {
        "colab": {
          "base_uri": "https://localhost:8080/",
          "height": 1000
        },
        "id": "Gw_bl34cX_3U",
        "outputId": "8446c1dc-a62f-4c3a-fde2-a571735b7711"
      },
      "outputs": [
        {
          "name": "stdout",
          "output_type": "stream",
          "text": [
            "\u001b[33mWARNING: Ignoring invalid distribution -atplotlib (/usr/local/lib/python3.7/dist-packages)\u001b[0m\n",
            "\u001b[33mWARNING: Ignoring invalid distribution -atplotlib (/usr/local/lib/python3.7/dist-packages)\u001b[0m\n",
            "Looking in indexes: https://pypi.org/simple, https://us-python.pkg.dev/colab-wheels/public/simple/\n",
            "Requirement already satisfied: pandas in /usr/local/lib/python3.7/dist-packages (1.3.5)\n",
            "Requirement already satisfied: python-dateutil>=2.7.3 in /usr/local/lib/python3.7/dist-packages (from pandas) (2.8.2)\n",
            "Requirement already satisfied: pytz>=2017.3 in /usr/local/lib/python3.7/dist-packages (from pandas) (2022.4)\n",
            "Requirement already satisfied: numpy>=1.17.3 in /usr/local/lib/python3.7/dist-packages (from pandas) (1.21.6)\n",
            "Requirement already satisfied: six>=1.5 in /usr/local/lib/python3.7/dist-packages (from python-dateutil>=2.7.3->pandas) (1.15.0)\n",
            "\u001b[33mWARNING: Ignoring invalid distribution -atplotlib (/usr/local/lib/python3.7/dist-packages)\u001b[0m\n",
            "\u001b[33mWARNING: Ignoring invalid distribution -atplotlib (/usr/local/lib/python3.7/dist-packages)\u001b[0m\n",
            "\u001b[33mWARNING: Ignoring invalid distribution -atplotlib (/usr/local/lib/python3.7/dist-packages)\u001b[0m\n",
            "Looking in indexes: https://pypi.org/simple, https://us-python.pkg.dev/colab-wheels/public/simple/\n",
            "Requirement already satisfied: pandas_datareader in /usr/local/lib/python3.7/dist-packages (0.10.0)\n",
            "Requirement already satisfied: pandas>=0.23 in /usr/local/lib/python3.7/dist-packages (from pandas_datareader) (1.3.5)\n",
            "Requirement already satisfied: requests>=2.19.0 in /usr/local/lib/python3.7/dist-packages (from pandas_datareader) (2.23.0)\n",
            "Requirement already satisfied: lxml in /usr/local/lib/python3.7/dist-packages (from pandas_datareader) (4.9.1)\n",
            "Requirement already satisfied: pytz>=2017.3 in /usr/local/lib/python3.7/dist-packages (from pandas>=0.23->pandas_datareader) (2022.4)\n",
            "Requirement already satisfied: numpy>=1.17.3 in /usr/local/lib/python3.7/dist-packages (from pandas>=0.23->pandas_datareader) (1.21.6)\n",
            "Requirement already satisfied: python-dateutil>=2.7.3 in /usr/local/lib/python3.7/dist-packages (from pandas>=0.23->pandas_datareader) (2.8.2)\n",
            "Requirement already satisfied: six>=1.5 in /usr/local/lib/python3.7/dist-packages (from python-dateutil>=2.7.3->pandas>=0.23->pandas_datareader) (1.15.0)\n",
            "Requirement already satisfied: urllib3!=1.25.0,!=1.25.1,<1.26,>=1.21.1 in /usr/local/lib/python3.7/dist-packages (from requests>=2.19.0->pandas_datareader) (1.24.3)\n",
            "Requirement already satisfied: idna<3,>=2.5 in /usr/local/lib/python3.7/dist-packages (from requests>=2.19.0->pandas_datareader) (2.10)\n",
            "Requirement already satisfied: chardet<4,>=3.0.2 in /usr/local/lib/python3.7/dist-packages (from requests>=2.19.0->pandas_datareader) (3.0.4)\n",
            "Requirement already satisfied: certifi>=2017.4.17 in /usr/local/lib/python3.7/dist-packages (from requests>=2.19.0->pandas_datareader) (2022.9.24)\n",
            "\u001b[33mWARNING: Ignoring invalid distribution -atplotlib (/usr/local/lib/python3.7/dist-packages)\u001b[0m\n",
            "\u001b[33mWARNING: Ignoring invalid distribution -atplotlib (/usr/local/lib/python3.7/dist-packages)\u001b[0m\n",
            "\u001b[33mWARNING: Ignoring invalid distribution -atplotlib (/usr/local/lib/python3.7/dist-packages)\u001b[0m\n",
            "Looking in indexes: https://pypi.org/simple, https://us-python.pkg.dev/colab-wheels/public/simple/\n",
            "Requirement already satisfied: matplotlib in /usr/local/lib/python3.7/dist-packages (3.5.3)\n",
            "Requirement already satisfied: pyparsing>=2.2.1 in /usr/local/lib/python3.7/dist-packages (from matplotlib) (3.0.9)\n",
            "Requirement already satisfied: pillow>=6.2.0 in /usr/local/lib/python3.7/dist-packages (from matplotlib) (7.1.2)\n",
            "Requirement already satisfied: kiwisolver>=1.0.1 in /usr/local/lib/python3.7/dist-packages (from matplotlib) (1.4.4)\n",
            "Requirement already satisfied: python-dateutil>=2.7 in /usr/local/lib/python3.7/dist-packages (from matplotlib) (2.8.2)\n",
            "Requirement already satisfied: packaging>=20.0 in /usr/local/lib/python3.7/dist-packages (from matplotlib) (21.3)\n",
            "Requirement already satisfied: cycler>=0.10 in /usr/local/lib/python3.7/dist-packages (from matplotlib) (0.11.0)\n",
            "Requirement already satisfied: numpy>=1.17 in /usr/local/lib/python3.7/dist-packages (from matplotlib) (1.21.6)\n",
            "Requirement already satisfied: fonttools>=4.22.0 in /usr/local/lib/python3.7/dist-packages (from matplotlib) (4.37.4)\n",
            "Requirement already satisfied: typing-extensions in /usr/local/lib/python3.7/dist-packages (from kiwisolver>=1.0.1->matplotlib) (4.1.1)\n",
            "Requirement already satisfied: six>=1.5 in /usr/local/lib/python3.7/dist-packages (from python-dateutil>=2.7->matplotlib) (1.15.0)\n",
            "\u001b[33mWARNING: Ignoring invalid distribution -atplotlib (/usr/local/lib/python3.7/dist-packages)\u001b[0m\n",
            "\u001b[33mWARNING: Ignoring invalid distribution -atplotlib (/usr/local/lib/python3.7/dist-packages)\u001b[0m\n",
            "\u001b[33mWARNING: Ignoring invalid distribution -atplotlib (/usr/local/lib/python3.7/dist-packages)\u001b[0m\n",
            "Looking in indexes: https://pypi.org/simple, https://us-python.pkg.dev/colab-wheels/public/simple/\n",
            "Collecting yfinance\n",
            "  Downloading yfinance-0.1.77-py2.py3-none-any.whl (28 kB)\n",
            "Requirement already satisfied: pandas>=0.24.0 in /usr/local/lib/python3.7/dist-packages (from yfinance) (1.3.5)\n",
            "Requirement already satisfied: appdirs>=1.4.4 in /usr/local/lib/python3.7/dist-packages (from yfinance) (1.4.4)\n",
            "Requirement already satisfied: numpy>=1.15 in /usr/local/lib/python3.7/dist-packages (from yfinance) (1.21.6)\n",
            "Collecting requests>=2.26\n",
            "  Downloading requests-2.28.1-py3-none-any.whl (62 kB)\n",
            "\u001b[K     |████████████████████████████████| 62 kB 1.1 MB/s \n",
            "\u001b[?25hRequirement already satisfied: multitasking>=0.0.7 in /usr/local/lib/python3.7/dist-packages (from yfinance) (0.0.11)\n",
            "Requirement already satisfied: lxml>=4.5.1 in /usr/local/lib/python3.7/dist-packages (from yfinance) (4.9.1)\n",
            "Requirement already satisfied: python-dateutil>=2.7.3 in /usr/local/lib/python3.7/dist-packages (from pandas>=0.24.0->yfinance) (2.8.2)\n",
            "Requirement already satisfied: pytz>=2017.3 in /usr/local/lib/python3.7/dist-packages (from pandas>=0.24.0->yfinance) (2022.4)\n",
            "Requirement already satisfied: six>=1.5 in /usr/local/lib/python3.7/dist-packages (from python-dateutil>=2.7.3->pandas>=0.24.0->yfinance) (1.15.0)\n",
            "Requirement already satisfied: urllib3<1.27,>=1.21.1 in /usr/local/lib/python3.7/dist-packages (from requests>=2.26->yfinance) (1.24.3)\n",
            "Requirement already satisfied: certifi>=2017.4.17 in /usr/local/lib/python3.7/dist-packages (from requests>=2.26->yfinance) (2022.9.24)\n",
            "Requirement already satisfied: idna<4,>=2.5 in /usr/local/lib/python3.7/dist-packages (from requests>=2.26->yfinance) (2.10)\n",
            "Requirement already satisfied: charset-normalizer<3,>=2 in /usr/local/lib/python3.7/dist-packages (from requests>=2.26->yfinance) (2.1.1)\n",
            "\u001b[33mWARNING: Ignoring invalid distribution -atplotlib (/usr/local/lib/python3.7/dist-packages)\u001b[0m\n",
            "Installing collected packages: requests, yfinance\n",
            "  Attempting uninstall: requests\n",
            "\u001b[33m    WARNING: Ignoring invalid distribution -atplotlib (/usr/local/lib/python3.7/dist-packages)\u001b[0m\n",
            "    Found existing installation: requests 2.23.0\n",
            "    Uninstalling requests-2.23.0:\n",
            "      Successfully uninstalled requests-2.23.0\n",
            "\u001b[33mWARNING: Ignoring invalid distribution -atplotlib (/usr/local/lib/python3.7/dist-packages)\u001b[0m\n",
            "\u001b[33mWARNING: Ignoring invalid distribution -atplotlib (/usr/local/lib/python3.7/dist-packages)\u001b[0m\n",
            "Successfully installed requests-2.28.1 yfinance-0.1.77\n"
          ]
        },
        {
          "data": {
            "application/vnd.colab-display-data+json": {
              "pip_warning": {
                "packages": [
                  "requests"
                ]
              }
            }
          },
          "metadata": {},
          "output_type": "display_data"
        }
      ],
      "source": [
        "# upgrade basic libraries, these are all pre-installed by colab but often with old versions\n",
        "!pip install --upgrade pandas\n",
        "!pip install --upgrade pandas_datareader\n",
        "!pip install --upgrade matplotlib\n",
        "!pip install yfinance"
      ]
    },
    {
      "cell_type": "code",
      "execution_count": 1,
      "metadata": {
        "id": "ygBuzB86-GeE"
      },
      "outputs": [],
      "source": [
        "import pandas as pd\n",
        "from pandas import Series, DataFrame\n",
        "import pandas_datareader.data as web\n",
        "\n",
        "import matplotlib as mpl\n",
        "from matplotlib import pyplot as plt\n",
        "\n",
        "import yfinance as yf"
      ]
    },
    {
      "cell_type": "markdown",
      "metadata": {
        "id": "wVM-4BWNYRJ5"
      },
      "source": [
        "# Basic Analaysis\n"
      ]
    },
    {
      "cell_type": "markdown",
      "metadata": {
        "id": "ffIazKdKaGoI"
      },
      "source": [
        "## Exploratory stock analysis"
      ]
    },
    {
      "cell_type": "code",
      "execution_count": null,
      "metadata": {
        "id": "GX3nNb56YEzV"
      },
      "outputs": [],
      "source": [
        "# declare start and end time\n",
        "import datetime\n",
        "start = datetime.datetime(2010,1,1)\n",
        "end = datetime.datetime(2017,1,11)"
      ]
    },
    {
      "cell_type": "code",
      "execution_count": null,
      "metadata": {
        "colab": {
          "base_uri": "https://localhost:8080/",
          "height": 297
        },
        "id": "Y9BcljsSYf5c",
        "outputId": "0a988548-ef2d-4f4b-c804-f8326f26504b"
      },
      "outputs": [
        {
          "data": {
            "text/html": [
              "\n",
              "  <div id=\"df-79b91fa6-1baf-4503-bc29-4da99efca161\">\n",
              "    <div class=\"colab-df-container\">\n",
              "      <div>\n",
              "<style scoped>\n",
              "    .dataframe tbody tr th:only-of-type {\n",
              "        vertical-align: middle;\n",
              "    }\n",
              "\n",
              "    .dataframe tbody tr th {\n",
              "        vertical-align: top;\n",
              "    }\n",
              "\n",
              "    .dataframe thead th {\n",
              "        text-align: right;\n",
              "    }\n",
              "</style>\n",
              "<table border=\"1\" class=\"dataframe\">\n",
              "  <thead>\n",
              "    <tr style=\"text-align: right;\">\n",
              "      <th></th>\n",
              "      <th>High</th>\n",
              "      <th>Low</th>\n",
              "      <th>Open</th>\n",
              "      <th>Close</th>\n",
              "      <th>Volume</th>\n",
              "      <th>Adj Close</th>\n",
              "    </tr>\n",
              "    <tr>\n",
              "      <th>Date</th>\n",
              "      <th></th>\n",
              "      <th></th>\n",
              "      <th></th>\n",
              "      <th></th>\n",
              "      <th></th>\n",
              "      <th></th>\n",
              "    </tr>\n",
              "  </thead>\n",
              "  <tbody>\n",
              "    <tr>\n",
              "      <th>2010-01-04</th>\n",
              "      <td>7.660714</td>\n",
              "      <td>7.585000</td>\n",
              "      <td>7.622500</td>\n",
              "      <td>7.643214</td>\n",
              "      <td>493729600.0</td>\n",
              "      <td>6.526020</td>\n",
              "    </tr>\n",
              "    <tr>\n",
              "      <th>2010-01-05</th>\n",
              "      <td>7.699643</td>\n",
              "      <td>7.616071</td>\n",
              "      <td>7.664286</td>\n",
              "      <td>7.656429</td>\n",
              "      <td>601904800.0</td>\n",
              "      <td>6.537302</td>\n",
              "    </tr>\n",
              "    <tr>\n",
              "      <th>2010-01-06</th>\n",
              "      <td>7.686786</td>\n",
              "      <td>7.526786</td>\n",
              "      <td>7.656429</td>\n",
              "      <td>7.534643</td>\n",
              "      <td>552160000.0</td>\n",
              "      <td>6.433319</td>\n",
              "    </tr>\n",
              "    <tr>\n",
              "      <th>2010-01-07</th>\n",
              "      <td>7.571429</td>\n",
              "      <td>7.466071</td>\n",
              "      <td>7.562500</td>\n",
              "      <td>7.520714</td>\n",
              "      <td>477131200.0</td>\n",
              "      <td>6.421426</td>\n",
              "    </tr>\n",
              "    <tr>\n",
              "      <th>2010-01-08</th>\n",
              "      <td>7.571429</td>\n",
              "      <td>7.466429</td>\n",
              "      <td>7.510714</td>\n",
              "      <td>7.570714</td>\n",
              "      <td>447610800.0</td>\n",
              "      <td>6.464118</td>\n",
              "    </tr>\n",
              "    <tr>\n",
              "      <th>2010-01-11</th>\n",
              "      <td>7.607143</td>\n",
              "      <td>7.444643</td>\n",
              "      <td>7.600000</td>\n",
              "      <td>7.503929</td>\n",
              "      <td>462229600.0</td>\n",
              "      <td>6.407093</td>\n",
              "    </tr>\n",
              "    <tr>\n",
              "      <th>2010-01-12</th>\n",
              "      <td>7.491786</td>\n",
              "      <td>7.372143</td>\n",
              "      <td>7.471071</td>\n",
              "      <td>7.418571</td>\n",
              "      <td>594459600.0</td>\n",
              "      <td>6.334212</td>\n",
              "    </tr>\n",
              "  </tbody>\n",
              "</table>\n",
              "</div>\n",
              "      <button class=\"colab-df-convert\" onclick=\"convertToInteractive('df-79b91fa6-1baf-4503-bc29-4da99efca161')\"\n",
              "              title=\"Convert this dataframe to an interactive table.\"\n",
              "              style=\"display:none;\">\n",
              "        \n",
              "  <svg xmlns=\"http://www.w3.org/2000/svg\" height=\"24px\"viewBox=\"0 0 24 24\"\n",
              "       width=\"24px\">\n",
              "    <path d=\"M0 0h24v24H0V0z\" fill=\"none\"/>\n",
              "    <path d=\"M18.56 5.44l.94 2.06.94-2.06 2.06-.94-2.06-.94-.94-2.06-.94 2.06-2.06.94zm-11 1L8.5 8.5l.94-2.06 2.06-.94-2.06-.94L8.5 2.5l-.94 2.06-2.06.94zm10 10l.94 2.06.94-2.06 2.06-.94-2.06-.94-.94-2.06-.94 2.06-2.06.94z\"/><path d=\"M17.41 7.96l-1.37-1.37c-.4-.4-.92-.59-1.43-.59-.52 0-1.04.2-1.43.59L10.3 9.45l-7.72 7.72c-.78.78-.78 2.05 0 2.83L4 21.41c.39.39.9.59 1.41.59.51 0 1.02-.2 1.41-.59l7.78-7.78 2.81-2.81c.8-.78.8-2.07 0-2.86zM5.41 20L4 18.59l7.72-7.72 1.47 1.35L5.41 20z\"/>\n",
              "  </svg>\n",
              "      </button>\n",
              "      \n",
              "  <style>\n",
              "    .colab-df-container {\n",
              "      display:flex;\n",
              "      flex-wrap:wrap;\n",
              "      gap: 12px;\n",
              "    }\n",
              "\n",
              "    .colab-df-convert {\n",
              "      background-color: #E8F0FE;\n",
              "      border: none;\n",
              "      border-radius: 50%;\n",
              "      cursor: pointer;\n",
              "      display: none;\n",
              "      fill: #1967D2;\n",
              "      height: 32px;\n",
              "      padding: 0 0 0 0;\n",
              "      width: 32px;\n",
              "    }\n",
              "\n",
              "    .colab-df-convert:hover {\n",
              "      background-color: #E2EBFA;\n",
              "      box-shadow: 0px 1px 2px rgba(60, 64, 67, 0.3), 0px 1px 3px 1px rgba(60, 64, 67, 0.15);\n",
              "      fill: #174EA6;\n",
              "    }\n",
              "\n",
              "    [theme=dark] .colab-df-convert {\n",
              "      background-color: #3B4455;\n",
              "      fill: #D2E3FC;\n",
              "    }\n",
              "\n",
              "    [theme=dark] .colab-df-convert:hover {\n",
              "      background-color: #434B5C;\n",
              "      box-shadow: 0px 1px 3px 1px rgba(0, 0, 0, 0.15);\n",
              "      filter: drop-shadow(0px 1px 2px rgba(0, 0, 0, 0.3));\n",
              "      fill: #FFFFFF;\n",
              "    }\n",
              "  </style>\n",
              "\n",
              "      <script>\n",
              "        const buttonEl =\n",
              "          document.querySelector('#df-79b91fa6-1baf-4503-bc29-4da99efca161 button.colab-df-convert');\n",
              "        buttonEl.style.display =\n",
              "          google.colab.kernel.accessAllowed ? 'block' : 'none';\n",
              "\n",
              "        async function convertToInteractive(key) {\n",
              "          const element = document.querySelector('#df-79b91fa6-1baf-4503-bc29-4da99efca161');\n",
              "          const dataTable =\n",
              "            await google.colab.kernel.invokeFunction('convertToInteractive',\n",
              "                                                     [key], {});\n",
              "          if (!dataTable) return;\n",
              "\n",
              "          const docLinkHtml = 'Like what you see? Visit the ' +\n",
              "            '<a target=\"_blank\" href=https://colab.research.google.com/notebooks/data_table.ipynb>data table notebook</a>'\n",
              "            + ' to learn more about interactive tables.';\n",
              "          element.innerHTML = '';\n",
              "          dataTable['output_type'] = 'display_data';\n",
              "          await google.colab.output.renderOutput(dataTable, element);\n",
              "          const docLink = document.createElement('div');\n",
              "          docLink.innerHTML = docLinkHtml;\n",
              "          element.appendChild(docLink);\n",
              "        }\n",
              "      </script>\n",
              "    </div>\n",
              "  </div>\n",
              "  "
            ],
            "text/plain": [
              "                High       Low      Open     Close       Volume  Adj Close\n",
              "Date                                                                      \n",
              "2010-01-04  7.660714  7.585000  7.622500  7.643214  493729600.0   6.526020\n",
              "2010-01-05  7.699643  7.616071  7.664286  7.656429  601904800.0   6.537302\n",
              "2010-01-06  7.686786  7.526786  7.656429  7.534643  552160000.0   6.433319\n",
              "2010-01-07  7.571429  7.466071  7.562500  7.520714  477131200.0   6.421426\n",
              "2010-01-08  7.571429  7.466429  7.510714  7.570714  447610800.0   6.464118\n",
              "2010-01-11  7.607143  7.444643  7.600000  7.503929  462229600.0   6.407093\n",
              "2010-01-12  7.491786  7.372143  7.471071  7.418571  594459600.0   6.334212"
            ]
          },
          "execution_count": 4,
          "metadata": {},
          "output_type": "execute_result"
        }
      ],
      "source": [
        "# import the stock data of aapl from yahoo finance with the range of time stated\n",
        "df = web.DataReader(\"AAPL\", 'yahoo', start, end)\n",
        "df.head(7)"
      ]
    },
    {
      "cell_type": "code",
      "execution_count": 5,
      "metadata": {
        "colab": {
          "base_uri": "https://localhost:8080/",
          "height": 297
        },
        "id": "BSQwMwi5ZAV6",
        "outputId": "3544dfe6-2113-4881-ddfb-6db4488bf5ce"
      },
      "outputs": [
        {
          "data": {
            "text/html": [
              "\n",
              "  <div id=\"df-3f0ff631-d0e1-41ab-8609-35717727d58b\">\n",
              "    <div class=\"colab-df-container\">\n",
              "      <div>\n",
              "<style scoped>\n",
              "    .dataframe tbody tr th:only-of-type {\n",
              "        vertical-align: middle;\n",
              "    }\n",
              "\n",
              "    .dataframe tbody tr th {\n",
              "        vertical-align: top;\n",
              "    }\n",
              "\n",
              "    .dataframe thead th {\n",
              "        text-align: right;\n",
              "    }\n",
              "</style>\n",
              "<table border=\"1\" class=\"dataframe\">\n",
              "  <thead>\n",
              "    <tr style=\"text-align: right;\">\n",
              "      <th></th>\n",
              "      <th>High</th>\n",
              "      <th>Low</th>\n",
              "      <th>Open</th>\n",
              "      <th>Close</th>\n",
              "      <th>Volume</th>\n",
              "      <th>Adj Close</th>\n",
              "    </tr>\n",
              "  </thead>\n",
              "  <tbody>\n",
              "    <tr>\n",
              "      <th>count</th>\n",
              "      <td>1769.000000</td>\n",
              "      <td>1769.000000</td>\n",
              "      <td>1769.000000</td>\n",
              "      <td>1769.000000</td>\n",
              "      <td>1.769000e+03</td>\n",
              "      <td>1769.000000</td>\n",
              "    </tr>\n",
              "    <tr>\n",
              "      <th>mean</th>\n",
              "      <td>20.072649</td>\n",
              "      <td>19.697763</td>\n",
              "      <td>19.894219</td>\n",
              "      <td>19.888647</td>\n",
              "      <td>3.758507e+08</td>\n",
              "      <td>17.692292</td>\n",
              "    </tr>\n",
              "    <tr>\n",
              "      <th>std</th>\n",
              "      <td>7.150999</td>\n",
              "      <td>7.038787</td>\n",
              "      <td>7.095451</td>\n",
              "      <td>7.094345</td>\n",
              "      <td>2.409303e+08</td>\n",
              "      <td>6.741325</td>\n",
              "    </tr>\n",
              "    <tr>\n",
              "      <th>min</th>\n",
              "      <td>7.000000</td>\n",
              "      <td>6.794643</td>\n",
              "      <td>6.870357</td>\n",
              "      <td>6.858929</td>\n",
              "      <td>4.590360e+07</td>\n",
              "      <td>5.856372</td>\n",
              "    </tr>\n",
              "    <tr>\n",
              "      <th>25%</th>\n",
              "      <td>13.994286</td>\n",
              "      <td>13.714286</td>\n",
              "      <td>13.863571</td>\n",
              "      <td>13.886071</td>\n",
              "      <td>1.958040e+08</td>\n",
              "      <td>11.856368</td>\n",
              "    </tr>\n",
              "    <tr>\n",
              "      <th>50%</th>\n",
              "      <td>19.888929</td>\n",
              "      <td>19.457857</td>\n",
              "      <td>19.768572</td>\n",
              "      <td>19.686787</td>\n",
              "      <td>3.218404e+08</td>\n",
              "      <td>17.218298</td>\n",
              "    </tr>\n",
              "    <tr>\n",
              "      <th>75%</th>\n",
              "      <td>26.342501</td>\n",
              "      <td>25.782499</td>\n",
              "      <td>26.020000</td>\n",
              "      <td>26.084999</td>\n",
              "      <td>4.837532e+08</td>\n",
              "      <td>23.873837</td>\n",
              "    </tr>\n",
              "    <tr>\n",
              "      <th>max</th>\n",
              "      <td>33.634998</td>\n",
              "      <td>32.849998</td>\n",
              "      <td>33.615002</td>\n",
              "      <td>33.250000</td>\n",
              "      <td>1.880998e+09</td>\n",
              "      <td>30.118967</td>\n",
              "    </tr>\n",
              "  </tbody>\n",
              "</table>\n",
              "</div>\n",
              "      <button class=\"colab-df-convert\" onclick=\"convertToInteractive('df-3f0ff631-d0e1-41ab-8609-35717727d58b')\"\n",
              "              title=\"Convert this dataframe to an interactive table.\"\n",
              "              style=\"display:none;\">\n",
              "        \n",
              "  <svg xmlns=\"http://www.w3.org/2000/svg\" height=\"24px\"viewBox=\"0 0 24 24\"\n",
              "       width=\"24px\">\n",
              "    <path d=\"M0 0h24v24H0V0z\" fill=\"none\"/>\n",
              "    <path d=\"M18.56 5.44l.94 2.06.94-2.06 2.06-.94-2.06-.94-.94-2.06-.94 2.06-2.06.94zm-11 1L8.5 8.5l.94-2.06 2.06-.94-2.06-.94L8.5 2.5l-.94 2.06-2.06.94zm10 10l.94 2.06.94-2.06 2.06-.94-2.06-.94-.94-2.06-.94 2.06-2.06.94z\"/><path d=\"M17.41 7.96l-1.37-1.37c-.4-.4-.92-.59-1.43-.59-.52 0-1.04.2-1.43.59L10.3 9.45l-7.72 7.72c-.78.78-.78 2.05 0 2.83L4 21.41c.39.39.9.59 1.41.59.51 0 1.02-.2 1.41-.59l7.78-7.78 2.81-2.81c.8-.78.8-2.07 0-2.86zM5.41 20L4 18.59l7.72-7.72 1.47 1.35L5.41 20z\"/>\n",
              "  </svg>\n",
              "      </button>\n",
              "      \n",
              "  <style>\n",
              "    .colab-df-container {\n",
              "      display:flex;\n",
              "      flex-wrap:wrap;\n",
              "      gap: 12px;\n",
              "    }\n",
              "\n",
              "    .colab-df-convert {\n",
              "      background-color: #E8F0FE;\n",
              "      border: none;\n",
              "      border-radius: 50%;\n",
              "      cursor: pointer;\n",
              "      display: none;\n",
              "      fill: #1967D2;\n",
              "      height: 32px;\n",
              "      padding: 0 0 0 0;\n",
              "      width: 32px;\n",
              "    }\n",
              "\n",
              "    .colab-df-convert:hover {\n",
              "      background-color: #E2EBFA;\n",
              "      box-shadow: 0px 1px 2px rgba(60, 64, 67, 0.3), 0px 1px 3px 1px rgba(60, 64, 67, 0.15);\n",
              "      fill: #174EA6;\n",
              "    }\n",
              "\n",
              "    [theme=dark] .colab-df-convert {\n",
              "      background-color: #3B4455;\n",
              "      fill: #D2E3FC;\n",
              "    }\n",
              "\n",
              "    [theme=dark] .colab-df-convert:hover {\n",
              "      background-color: #434B5C;\n",
              "      box-shadow: 0px 1px 3px 1px rgba(0, 0, 0, 0.15);\n",
              "      filter: drop-shadow(0px 1px 2px rgba(0, 0, 0, 0.3));\n",
              "      fill: #FFFFFF;\n",
              "    }\n",
              "  </style>\n",
              "\n",
              "      <script>\n",
              "        const buttonEl =\n",
              "          document.querySelector('#df-3f0ff631-d0e1-41ab-8609-35717727d58b button.colab-df-convert');\n",
              "        buttonEl.style.display =\n",
              "          google.colab.kernel.accessAllowed ? 'block' : 'none';\n",
              "\n",
              "        async function convertToInteractive(key) {\n",
              "          const element = document.querySelector('#df-3f0ff631-d0e1-41ab-8609-35717727d58b');\n",
              "          const dataTable =\n",
              "            await google.colab.kernel.invokeFunction('convertToInteractive',\n",
              "                                                     [key], {});\n",
              "          if (!dataTable) return;\n",
              "\n",
              "          const docLinkHtml = 'Like what you see? Visit the ' +\n",
              "            '<a target=\"_blank\" href=https://colab.research.google.com/notebooks/data_table.ipynb>data table notebook</a>'\n",
              "            + ' to learn more about interactive tables.';\n",
              "          element.innerHTML = '';\n",
              "          dataTable['output_type'] = 'display_data';\n",
              "          await google.colab.output.renderOutput(dataTable, element);\n",
              "          const docLink = document.createElement('div');\n",
              "          docLink.innerHTML = docLinkHtml;\n",
              "          element.appendChild(docLink);\n",
              "        }\n",
              "      </script>\n",
              "    </div>\n",
              "  </div>\n",
              "  "
            ],
            "text/plain": [
              "              High          Low         Open        Close        Volume  \\\n",
              "count  1769.000000  1769.000000  1769.000000  1769.000000  1.769000e+03   \n",
              "mean     20.072649    19.697763    19.894219    19.888647  3.758507e+08   \n",
              "std       7.150999     7.038787     7.095451     7.094345  2.409303e+08   \n",
              "min       7.000000     6.794643     6.870357     6.858929  4.590360e+07   \n",
              "25%      13.994286    13.714286    13.863571    13.886071  1.958040e+08   \n",
              "50%      19.888929    19.457857    19.768572    19.686787  3.218404e+08   \n",
              "75%      26.342501    25.782499    26.020000    26.084999  4.837532e+08   \n",
              "max      33.634998    32.849998    33.615002    33.250000  1.880998e+09   \n",
              "\n",
              "         Adj Close  \n",
              "count  1769.000000  \n",
              "mean     17.692292  \n",
              "std       6.741325  \n",
              "min       5.856372  \n",
              "25%      11.856368  \n",
              "50%      17.218298  \n",
              "75%      23.873837  \n",
              "max      30.118967  "
            ]
          },
          "execution_count": 5,
          "metadata": {},
          "output_type": "execute_result"
        }
      ],
      "source": [
        "df.describe()"
      ]
    },
    {
      "cell_type": "code",
      "execution_count": 6,
      "metadata": {
        "colab": {
          "base_uri": "https://localhost:8080/"
        },
        "id": "7MnqbwHsZ21W",
        "outputId": "1d7b664d-a9c3-49c1-8d75-dbb257f596db"
      },
      "outputs": [
        {
          "name": "stdout",
          "output_type": "stream",
          "text": [
            "<class 'pandas.core.frame.DataFrame'>\n",
            "DatetimeIndex: 1769 entries, 2010-01-04 to 2017-01-11\n",
            "Data columns (total 6 columns):\n",
            " #   Column     Non-Null Count  Dtype  \n",
            "---  ------     --------------  -----  \n",
            " 0   High       1769 non-null   float64\n",
            " 1   Low        1769 non-null   float64\n",
            " 2   Open       1769 non-null   float64\n",
            " 3   Close      1769 non-null   float64\n",
            " 4   Volume     1769 non-null   float64\n",
            " 5   Adj Close  1769 non-null   float64\n",
            "dtypes: float64(6)\n",
            "memory usage: 96.7 KB\n"
          ]
        }
      ],
      "source": [
        "df.info()"
      ]
    },
    {
      "cell_type": "markdown",
      "metadata": {
        "id": "FPdxm44V9KWO"
      },
      "source": [
        "## Moving Windows"
      ]
    },
    {
      "cell_type": "code",
      "execution_count": 7,
      "metadata": {
        "colab": {
          "base_uri": "https://localhost:8080/"
        },
        "id": "WXZBRYdibt0b",
        "outputId": "4ad214b7-6a57-4c55-8d82-86fab8de3a81"
      },
      "outputs": [
        {
          "data": {
            "text/plain": [
              "Date\n",
              "2017-01-05    26.232371\n",
              "2017-01-06    26.253438\n",
              "2017-01-09    26.277268\n",
              "2017-01-10    26.301753\n",
              "2017-01-11    26.328064\n",
              "Name: Adj Close, dtype: float64"
            ]
          },
          "execution_count": 7,
          "metadata": {},
          "output_type": "execute_result"
        }
      ],
      "source": [
        "# Isolate the closing prices\n",
        "close_px = df['Adj Close']\n",
        "\n",
        "# Calculate the moving average\n",
        "mavg = close_px.rolling(window=100).mean()\n",
        "\n",
        "# inspect the results\n",
        "mavg.tail()"
      ]
    },
    {
      "cell_type": "markdown",
      "metadata": {
        "id": "1tGG41lIb_Ge"
      },
      "source": [
        "## Visualising the moving average"
      ]
    },
    {
      "cell_type": "code",
      "execution_count": 8,
      "metadata": {
        "colab": {
          "base_uri": "https://localhost:8080/",
          "height": 436
        },
        "id": "O5r5_W4WcC7R",
        "outputId": "3e62be1c-c4a4-480a-89c5-ddec6e5c2810"
      },
      "outputs": [
        {
          "data": {
            "text/plain": [
              "<matplotlib.legend.Legend at 0x7f669db86810>"
            ]
          },
          "execution_count": 8,
          "metadata": {},
          "output_type": "execute_result"
        },
        {
          "data": {
            "image/png": "[encoded data removed]",
            "text/plain": [
              "<Figure size 576x504 with 1 Axes>"
            ]
          },
          "metadata": {},
          "output_type": "display_data"
        }
      ],
      "source": [
        "%matplotlib inline\n",
        "plt.style.use('ggplot')\n",
        "mpl.rc('figure', figsize=(8,7))\n",
        "close_px.plot(label='AAPL'), mavg.plot(label='mavg')\n",
        "plt.legend()"
      ]
    },
    {
      "cell_type": "code",
      "execution_count": 9,
      "metadata": {
        "colab": {
          "base_uri": "https://localhost:8080/",
          "height": 436
        },
        "id": "0pMUfJEPcMpr",
        "outputId": "6e3504b0-d477-460d-a713-f390f7276c25"
      },
      "outputs": [
        {
          "data": {
            "text/plain": [
              "<matplotlib.legend.Legend at 0x7f669cca7b90>"
            ]
          },
          "execution_count": 9,
          "metadata": {},
          "output_type": "execute_result"
        },
        {
          "data": {
            "image/png": "[encoded data removed]",
            "text/plain": [
              "<Figure size 576x504 with 1 Axes>"
            ]
          },
          "metadata": {},
          "output_type": "display_data"
        }
      ],
      "source": [
        "# changing the default colors\n",
        "close_px.plot(label='AAPL', color='#660099'), mavg.plot(label='mavg', color='#FFCC33')\n",
        "plt.legend()"
      ]
    },
    {
      "cell_type": "markdown",
      "metadata": {
        "id": "yV52VvzzgTzT"
      },
      "source": [
        "## Visualising stock volatility using standard deviations"
      ]
    },
    {
      "cell_type": "code",
      "execution_count": 10,
      "metadata": {
        "colab": {
          "base_uri": "https://localhost:8080/",
          "height": 453
        },
        "id": "VTpmTZ6ugcZA",
        "outputId": "c4b12776-b95f-4982-819c-ba9967a82f2a"
      },
      "outputs": [
        {
          "name": "stdout",
          "output_type": "stream",
          "text": [
            "\r[*********************100%***********************]  1 of 1 completed\n"
          ]
        },
        {
          "data": {
            "text/plain": [
              "<matplotlib.legend.Legend at 0x7f6699a0e510>"
            ]
          },
          "execution_count": 10,
          "metadata": {},
          "output_type": "execute_result"
        },
        {
          "data": {
            "image/png": "[encoded data removed]",
            "text/plain": [
              "<Figure size 576x504 with 1 Axes>"
            ]
          },
          "metadata": {},
          "output_type": "display_data"
        }
      ],
      "source": [
        "# set a ticker symbol and download the required stock data\n",
        "ticker = 'AAPL'\n",
        "\n",
        "# download stock data by using yfinance module\n",
        "stock_data = yf.download(ticker, start, end)\n",
        "\n",
        "# stock investment return can be calculated as the percentage change\n",
        "stock_data['Returns'] = stock_data['Adj Close'].pct_change()\n",
        "stock_data['Returns'].plot(color='#660099')\n",
        "plt.legend()"
      ]
    },
    {
      "cell_type": "markdown",
      "metadata": {
        "id": "rMN9q5kfiFtH"
      },
      "source": [
        "## Histogram"
      ]
    },
    {
      "cell_type": "code",
      "execution_count": 11,
      "metadata": {
        "colab": {
          "base_uri": "https://localhost:8080/",
          "height": 921
        },
        "id": "MsWJb1HtiIlx",
        "outputId": "4f473745-5ce1-4818-93df-b4832285030f"
      },
      "outputs": [
        {
          "data": {
            "text/plain": [
              "((array([  1.,   0.,   0.,   0.,   0.,   0.,   0.,   0.,   0.,   0.,   0.,\n",
              "           0.,   0.,   0.,   0.,   1.,   0.,   0.,   0.,   0.,   2.,   1.,\n",
              "           1.,   1.,   3.,   1.,   1.,   3.,   7.,   2.,   9.,   7.,  10.,\n",
              "          16.,  35.,  27.,  36.,  41.,  60.,  79.,  95., 145., 158., 149.,\n",
              "         148., 143., 120.,  97.,  94.,  80.,  54.,  24.,  28.,  21.,  20.,\n",
              "           8.,   6.,   9.,   4.,   2.,   2.,   4.,   1.,   2.,   3.,   1.,\n",
              "           1.,   0.,   0.,   1.,   1.,   0.,   1.,   0.,   1.]),\n",
              "  array([-12.35577583, -12.07271008, -11.78964433, -11.50657858,\n",
              "         -11.22351283, -10.94044708, -10.65738133, -10.37431557,\n",
              "         -10.09124982,  -9.80818407,  -9.52511832,  -9.24205257,\n",
              "          -8.95898682,  -8.67592107,  -8.39285532,  -8.10978957,\n",
              "          -7.82672382,  -7.54365807,  -7.26059232,  -6.97752657,\n",
              "          -6.69446082,  -6.41139507,  -6.12832932,  -5.84526357,\n",
              "          -5.56219782,  -5.27913207,  -4.99606632,  -4.71300057,\n",
              "          -4.42993482,  -4.14686907,  -3.86380332,  -3.58073757,\n",
              "          -3.29767182,  -3.01460607,  -2.73154032,  -2.44847457,\n",
              "          -2.16540882,  -1.88234307,  -1.59927731,  -1.31621156,\n",
              "          -1.03314581,  -0.75008006,  -0.46701431,  -0.18394856,\n",
              "           0.09911719,   0.38218294,   0.66524869,   0.94831444,\n",
              "           1.23138019,   1.51444594,   1.79751169,   2.08057744,\n",
              "           2.36364319,   2.64670894,   2.92977469,   3.21284044,\n",
              "           3.49590619,   3.77897194,   4.06203769,   4.34510344,\n",
              "           4.62816919,   4.91123494,   5.19430069,   5.47736644,\n",
              "           5.76043219,   6.04349794,   6.32656369,   6.60962944,\n",
              "           6.89269519,   7.17576095,   7.4588267 ,   7.74189245,\n",
              "           8.0249582 ,   8.30802395,   8.5910897 ,   8.87415545]),\n",
              "  <BarContainer object of 75 artists>),\n",
              " Text(0.5, 0, 'Percentage of Returns'))"
            ]
          },
          "execution_count": 11,
          "metadata": {},
          "output_type": "execute_result"
        },
        {
          "data": {
            "image/png": "[encoded data removed]",
            "text/plain": [
              "<Figure size 576x504 with 1 Axes>"
            ]
          },
          "metadata": {},
          "output_type": "display_data"
        }
      ],
      "source": [
        "#this calculates the histogram which shows the distribution of returns\n",
        "returns_percent = stock_data['Returns'] * 100\n",
        "returns_percent.dropna(inplace=True)\n",
        "plt.hist(returns_percent, bins=75, color='#7100a0'), plt.xlabel(\"Percentage of Returns\")"
      ]
    },
    {
      "cell_type": "markdown",
      "metadata": {
        "id": "1Q-0_f-zomiW"
      },
      "source": [
        "# Using moments for further analysis"
      ]
    },
    {
      "cell_type": "markdown",
      "metadata": {
        "id": "gBCXX38vorWd"
      },
      "source": [
        "## Mean"
      ]
    },
    {
      "cell_type": "code",
      "execution_count": 13,
      "metadata": {
        "colab": {
          "base_uri": "https://localhost:8080/"
        },
        "id": "YQ64EiR6omH_",
        "outputId": "b2224e2b-b74c-4680-f48e-8bfe7a7fddff"
      },
      "outputs": [
        {
          "name": "stdout",
          "output_type": "stream",
          "text": [
            "Daily Mean Returns: 0.0009587518570707644\n",
            "Annual Mean Returns: 0.2731443696143254\n"
          ]
        }
      ],
      "source": [
        "# numpy: performs numerical calculations\n",
        "import numpy as np\n",
        "\n",
        "# the mean of daily and annual returns(first moment)\n",
        "daily_mean_returns = np.mean(stock_data['Returns'])\n",
        "print(\"Daily Mean Returns: \" + str(daily_mean_returns))\n",
        "\n",
        "annual_mean_returns = ((1+ daily_mean_returns)**252)-1\n",
        "print(\"Annual Mean Returns: \" + str(annual_mean_returns))"
      ]
    },
    {
      "cell_type": "markdown",
      "metadata": {
        "id": "NpsSdijYo4As"
      },
      "source": [
        "## Variance"
      ]
    },
    {
      "cell_type": "code",
      "execution_count": 15,
      "metadata": {
        "colab": {
          "base_uri": "https://localhost:8080/"
        },
        "id": "FFoUwImBo8Wj",
        "outputId": "dde4f420-1da1-4db5-ad08-70d4a5d762c1"
      },
      "outputs": [
        {
          "name": "stdout",
          "output_type": "stream",
          "text": [
            "Daily Standard Deviation 0.01647781844749121\n",
            "Annual Standard Deviation 0.261577258565605\n",
            "\n",
            "\n",
            "Daily Variance 0.0002715185007884816\n",
            "Annual Variance 0.06842266219869737\n"
          ]
        }
      ],
      "source": [
        "# find the daily and annual std first\n",
        "daily_std = np.std(stock_data['Returns'])\n",
        "print(\"Daily Standard Deviation \" + str(daily_std))\n",
        "annual_std = daily_std*np.sqrt(252)\n",
        "print(\"Annual Standard Deviation \" + str(annual_std ))\n",
        "\n",
        "# backslash n stands for a new line\n",
        "print('\\n')\n",
        "\n",
        "# this finds the daily and annual variance\n",
        "daily_var= daily_std**2\n",
        "print(\"Daily Variance \" + str(daily_var))\n",
        "annual_var = annual_std**2\n",
        "print(\"Annual Variance \" + str(annual_var))"
      ]
    },
    {
      "cell_type": "markdown",
      "metadata": {
        "id": "HGEeg0aXpHN-"
      },
      "source": [
        "## Skewness"
      ]
    },
    {
      "cell_type": "code",
      "execution_count": 16,
      "metadata": {
        "colab": {
          "base_uri": "https://localhost:8080/"
        },
        "id": "xeSLPDekpI5h",
        "outputId": "5a456023-47a1-4b31-ceb0-50e6ed8d61d1"
      },
      "outputs": [
        {
          "name": "stdout",
          "output_type": "stream",
          "text": [
            "Skewness: -0.1219759506211888\n"
          ]
        }
      ],
      "source": [
        "# scipy: performs more stats, utility functions for optimization and signal processing\n",
        "import scipy \n",
        "from scipy.stats import skew\n",
        "\n",
        "#skewness is the third moment\n",
        "returns = stock_data['Returns'].dropna()\n",
        "skewness = skew(returns)\n",
        "print(\"Skewness: \" + str(skewness))"
      ]
    },
    {
      "cell_type": "markdown",
      "metadata": {
        "id": "_N0M0nFTsZ1o"
      },
      "source": [
        "# Risk assessment for different trends"
      ]
    },
    {
      "cell_type": "markdown",
      "metadata": {
        "id": "3IgNrdZbsgA2"
      },
      "source": [
        "## Increasing stock model"
      ]
    },
    {
      "cell_type": "code",
      "execution_count": 17,
      "metadata": {
        "colab": {
          "base_uri": "https://localhost:8080/",
          "height": 252
        },
        "id": "2eoBdTZVskNw",
        "outputId": "db2e5065-c62d-4173-a9f5-7a66bb74cc0a"
      },
      "outputs": [
        {
          "name": "stdout",
          "output_type": "stream",
          "text": [
            "\r[*********************100%***********************]  1 of 1 completed\n"
          ]
        },
        {
          "data": {
            "text/html": [
              "\n",
              "  <div id=\"df-bba954bc-97cf-4656-8b75-f3f02f04af58\">\n",
              "    <div class=\"colab-df-container\">\n",
              "      <div>\n",
              "<style scoped>\n",
              "    .dataframe tbody tr th:only-of-type {\n",
              "        vertical-align: middle;\n",
              "    }\n",
              "\n",
              "    .dataframe tbody tr th {\n",
              "        vertical-align: top;\n",
              "    }\n",
              "\n",
              "    .dataframe thead th {\n",
              "        text-align: right;\n",
              "    }\n",
              "</style>\n",
              "<table border=\"1\" class=\"dataframe\">\n",
              "  <thead>\n",
              "    <tr style=\"text-align: right;\">\n",
              "      <th></th>\n",
              "      <th>Open</th>\n",
              "      <th>High</th>\n",
              "      <th>Low</th>\n",
              "      <th>Close</th>\n",
              "      <th>Adj Close</th>\n",
              "      <th>Volume</th>\n",
              "    </tr>\n",
              "    <tr>\n",
              "      <th>Date</th>\n",
              "      <th></th>\n",
              "      <th></th>\n",
              "      <th></th>\n",
              "      <th></th>\n",
              "      <th></th>\n",
              "      <th></th>\n",
              "    </tr>\n",
              "  </thead>\n",
              "  <tbody>\n",
              "    <tr>\n",
              "      <th>2014-04-30 00:00:00-04:00</th>\n",
              "      <td>21.165714</td>\n",
              "      <td>21.408215</td>\n",
              "      <td>21.064285</td>\n",
              "      <td>21.074642</td>\n",
              "      <td>18.721449</td>\n",
              "      <td>456640800</td>\n",
              "    </tr>\n",
              "    <tr>\n",
              "      <th>2014-05-01 00:00:00-04:00</th>\n",
              "      <td>21.142857</td>\n",
              "      <td>21.242857</td>\n",
              "      <td>20.941429</td>\n",
              "      <td>21.124287</td>\n",
              "      <td>18.765554</td>\n",
              "      <td>244048000</td>\n",
              "    </tr>\n",
              "    <tr>\n",
              "      <th>2014-05-02 00:00:00-04:00</th>\n",
              "      <td>21.155001</td>\n",
              "      <td>21.221430</td>\n",
              "      <td>21.061071</td>\n",
              "      <td>21.163570</td>\n",
              "      <td>18.800449</td>\n",
              "      <td>191514400</td>\n",
              "    </tr>\n",
              "    <tr>\n",
              "      <th>2014-05-05 00:00:00-04:00</th>\n",
              "      <td>21.076429</td>\n",
              "      <td>21.464287</td>\n",
              "      <td>21.071428</td>\n",
              "      <td>21.462856</td>\n",
              "      <td>19.066315</td>\n",
              "      <td>287067200</td>\n",
              "    </tr>\n",
              "    <tr>\n",
              "      <th>2014-05-06 00:00:00-04:00</th>\n",
              "      <td>21.492857</td>\n",
              "      <td>21.586071</td>\n",
              "      <td>21.228930</td>\n",
              "      <td>21.228930</td>\n",
              "      <td>18.858507</td>\n",
              "      <td>374564400</td>\n",
              "    </tr>\n",
              "  </tbody>\n",
              "</table>\n",
              "</div>\n",
              "      <button class=\"colab-df-convert\" onclick=\"convertToInteractive('df-bba954bc-97cf-4656-8b75-f3f02f04af58')\"\n",
              "              title=\"Convert this dataframe to an interactive table.\"\n",
              "              style=\"display:none;\">\n",
              "        \n",
              "  <svg xmlns=\"http://www.w3.org/2000/svg\" height=\"24px\"viewBox=\"0 0 24 24\"\n",
              "       width=\"24px\">\n",
              "    <path d=\"M0 0h24v24H0V0z\" fill=\"none\"/>\n",
              "    <path d=\"M18.56 5.44l.94 2.06.94-2.06 2.06-.94-2.06-.94-.94-2.06-.94 2.06-2.06.94zm-11 1L8.5 8.5l.94-2.06 2.06-.94-2.06-.94L8.5 2.5l-.94 2.06-2.06.94zm10 10l.94 2.06.94-2.06 2.06-.94-2.06-.94-.94-2.06-.94 2.06-2.06.94z\"/><path d=\"M17.41 7.96l-1.37-1.37c-.4-.4-.92-.59-1.43-.59-.52 0-1.04.2-1.43.59L10.3 9.45l-7.72 7.72c-.78.78-.78 2.05 0 2.83L4 21.41c.39.39.9.59 1.41.59.51 0 1.02-.2 1.41-.59l7.78-7.78 2.81-2.81c.8-.78.8-2.07 0-2.86zM5.41 20L4 18.59l7.72-7.72 1.47 1.35L5.41 20z\"/>\n",
              "  </svg>\n",
              "      </button>\n",
              "      \n",
              "  <style>\n",
              "    .colab-df-container {\n",
              "      display:flex;\n",
              "      flex-wrap:wrap;\n",
              "      gap: 12px;\n",
              "    }\n",
              "\n",
              "    .colab-df-convert {\n",
              "      background-color: #E8F0FE;\n",
              "      border: none;\n",
              "      border-radius: 50%;\n",
              "      cursor: pointer;\n",
              "      display: none;\n",
              "      fill: #1967D2;\n",
              "      height: 32px;\n",
              "      padding: 0 0 0 0;\n",
              "      width: 32px;\n",
              "    }\n",
              "\n",
              "    .colab-df-convert:hover {\n",
              "      background-color: #E2EBFA;\n",
              "      box-shadow: 0px 1px 2px rgba(60, 64, 67, 0.3), 0px 1px 3px 1px rgba(60, 64, 67, 0.15);\n",
              "      fill: #174EA6;\n",
              "    }\n",
              "\n",
              "    [theme=dark] .colab-df-convert {\n",
              "      background-color: #3B4455;\n",
              "      fill: #D2E3FC;\n",
              "    }\n",
              "\n",
              "    [theme=dark] .colab-df-convert:hover {\n",
              "      background-color: #434B5C;\n",
              "      box-shadow: 0px 1px 3px 1px rgba(0, 0, 0, 0.15);\n",
              "      filter: drop-shadow(0px 1px 2px rgba(0, 0, 0, 0.3));\n",
              "      fill: #FFFFFF;\n",
              "    }\n",
              "  </style>\n",
              "\n",
              "      <script>\n",
              "        const buttonEl =\n",
              "          document.querySelector('#df-bba954bc-97cf-4656-8b75-f3f02f04af58 button.colab-df-convert');\n",
              "        buttonEl.style.display =\n",
              "          google.colab.kernel.accessAllowed ? 'block' : 'none';\n",
              "\n",
              "        async function convertToInteractive(key) {\n",
              "          const element = document.querySelector('#df-bba954bc-97cf-4656-8b75-f3f02f04af58');\n",
              "          const dataTable =\n",
              "            await google.colab.kernel.invokeFunction('convertToInteractive',\n",
              "                                                     [key], {});\n",
              "          if (!dataTable) return;\n",
              "\n",
              "          const docLinkHtml = 'Like what you see? Visit the ' +\n",
              "            '<a target=\"_blank\" href=https://colab.research.google.com/notebooks/data_table.ipynb>data table notebook</a>'\n",
              "            + ' to learn more about interactive tables.';\n",
              "          element.innerHTML = '';\n",
              "          dataTable['output_type'] = 'display_data';\n",
              "          await google.colab.output.renderOutput(dataTable, element);\n",
              "          const docLink = document.createElement('div');\n",
              "          docLink.innerHTML = docLinkHtml;\n",
              "          element.appendChild(docLink);\n",
              "        }\n",
              "      </script>\n",
              "    </div>\n",
              "  </div>\n",
              "  "
            ],
            "text/plain": [
              "                                Open       High        Low      Close  \\\n",
              "Date                                                                    \n",
              "2014-04-30 00:00:00-04:00  21.165714  21.408215  21.064285  21.074642   \n",
              "2014-05-01 00:00:00-04:00  21.142857  21.242857  20.941429  21.124287   \n",
              "2014-05-02 00:00:00-04:00  21.155001  21.221430  21.061071  21.163570   \n",
              "2014-05-05 00:00:00-04:00  21.076429  21.464287  21.071428  21.462856   \n",
              "2014-05-06 00:00:00-04:00  21.492857  21.586071  21.228930  21.228930   \n",
              "\n",
              "                           Adj Close     Volume  \n",
              "Date                                             \n",
              "2014-04-30 00:00:00-04:00  18.721449  456640800  \n",
              "2014-05-01 00:00:00-04:00  18.765554  244048000  \n",
              "2014-05-02 00:00:00-04:00  18.800449  191514400  \n",
              "2014-05-05 00:00:00-04:00  19.066315  287067200  \n",
              "2014-05-06 00:00:00-04:00  18.858507  374564400  "
            ]
          },
          "execution_count": 17,
          "metadata": {},
          "output_type": "execute_result"
        }
      ],
      "source": [
        "# redefine the time range\n",
        "start = datetime.datetime(2014,4,22)\n",
        "end = datetime.datetime(2014,5,7)\n",
        "\n",
        "# repeating the method when finding the returns\n",
        "stock_data = yf.download(ticker, start, end)\n",
        "stock_data.tail()"
      ]
    },
    {
      "cell_type": "code",
      "execution_count": 18,
      "metadata": {
        "colab": {
          "base_uri": "https://localhost:8080/",
          "height": 486
        },
        "id": "ctNhaHK_srUk",
        "outputId": "fc764400-87dc-4aff-fdde-ddeb039c59d7"
      },
      "outputs": [
        {
          "data": {
            "text/plain": [
              "<matplotlib.legend.Legend at 0x7f668dea2d50>"
            ]
          },
          "execution_count": 18,
          "metadata": {},
          "output_type": "execute_result"
        },
        {
          "data": {
            "image/png": "[encoded data removed]",
            "text/plain": [
              "<Figure size 576x504 with 1 Axes>"
            ]
          },
          "metadata": {},
          "output_type": "display_data"
        }
      ],
      "source": [
        "# plot the graph of returns\n",
        "stock_data['Returns'] = stock_data['Adj Close'].pct_change()\n",
        "stock_data['Returns'].plot(color='#660099')\n",
        "plt.legend()"
      ]
    },
    {
      "cell_type": "code",
      "execution_count": 19,
      "metadata": {
        "colab": {
          "base_uri": "https://localhost:8080/",
          "height": 836
        },
        "id": "5Jjn9uOFswIp",
        "outputId": "cfe2fbb1-42b2-4c17-f6cb-29ea29bedbd7"
      },
      "outputs": [
        {
          "data": {
            "text/plain": [
              "((array([1., 1., 0., 0., 0., 0., 0., 2., 0., 0., 0., 1., 1., 0., 0., 0., 1.,\n",
              "         0., 0., 0., 0., 1., 0., 0., 0., 0., 0., 0., 0., 0., 0., 0., 0., 0.,\n",
              "         0., 0., 0., 0., 0., 0., 1., 0., 0., 0., 0., 0., 0., 0., 0., 0., 0.,\n",
              "         0., 0., 0., 0., 0., 0., 0., 0., 0., 0., 0., 0., 0., 0., 0., 0., 0.,\n",
              "         0., 0., 0., 0., 0., 0., 1.]),\n",
              "  array([-1.30711875, -1.18038155, -1.05364435, -0.92690715, -0.80016996,\n",
              "         -0.67343276, -0.54669556, -0.41995837, -0.29322117, -0.16648397,\n",
              "         -0.03974677,  0.08699042,  0.21372762,  0.34046482,  0.46720202,\n",
              "          0.59393921,  0.72067641,  0.84741361,  0.9741508 ,  1.100888  ,\n",
              "          1.2276252 ,  1.3543624 ,  1.48109959,  1.60783679,  1.73457399,\n",
              "          1.86131118,  1.98804838,  2.11478558,  2.24152278,  2.36825997,\n",
              "          2.49499717,  2.62173437,  2.74847156,  2.87520876,  3.00194596,\n",
              "          3.12868316,  3.25542035,  3.38215755,  3.50889475,  3.63563194,\n",
              "          3.76236914,  3.88910634,  4.01584354,  4.14258073,  4.26931793,\n",
              "          4.39605513,  4.52279232,  4.64952952,  4.77626672,  4.90300392,\n",
              "          5.02974111,  5.15647831,  5.28321551,  5.40995271,  5.5366899 ,\n",
              "          5.6634271 ,  5.7901643 ,  5.91690149,  6.04363869,  6.17037589,\n",
              "          6.29711309,  6.42385028,  6.55058748,  6.67732468,  6.80406187,\n",
              "          6.93079907,  7.05753627,  7.18427347,  7.31101066,  7.43774786,\n",
              "          7.56448506,  7.69122225,  7.81795945,  7.94469665,  8.07143385,\n",
              "          8.19817104]),\n",
              "  <BarContainer object of 75 artists>),\n",
              " Text(0.5, 0, 'Percentage of Returns'))"
            ]
          },
          "execution_count": 19,
          "metadata": {},
          "output_type": "execute_result"
        },
        {
          "data": {
            "image/png": "[encoded data removed]",
            "text/plain": [
              "<Figure size 576x504 with 1 Axes>"
            ]
          },
          "metadata": {},
          "output_type": "display_data"
        }
      ],
      "source": [
        "# find the histogram\n",
        "returns_percent = stock_data['Returns'] * 100\n",
        "returns_percent.dropna(inplace=True)\n",
        "plt.hist(returns_percent, bins=75, color='#7100a0'), plt.xlabel(\"Percentage of Returns\")"
      ]
    },
    {
      "cell_type": "code",
      "execution_count": 20,
      "metadata": {
        "colab": {
          "base_uri": "https://localhost:8080/"
        },
        "id": "89KadMw1s6Wv",
        "outputId": "cda28f4f-6f50-4a53-866b-87f8bd22c406"
      },
      "outputs": [
        {
          "name": "stdout",
          "output_type": "stream",
          "text": [
            "Daily Mean Returns: 0.01156963331179267\n",
            "Annual Mean Returns: 17.152542909040246\n"
          ]
        }
      ],
      "source": [
        "# repeating the methods when finding the three statistical moments\n",
        "import numpy as np\n",
        "\n",
        "# first moment - annual mean returns\n",
        "daily_mean_returns = np.mean(stock_data['Returns'])\n",
        "print(\"Daily Mean Returns: \" + str(daily_mean_returns))\n",
        "\n",
        "annual_mean_returns = ((1+ daily_mean_returns)**252)-1\n",
        "print(\"Annual Mean Returns: \" + str(annual_mean_returns))"
      ]
    },
    {
      "cell_type": "code",
      "execution_count": 21,
      "metadata": {
        "colab": {
          "base_uri": "https://localhost:8080/"
        },
        "id": "NhJrRa8Vs9FG",
        "outputId": "7a6c0df0-27d6-4f06-8caf-0bd624d9c30f"
      },
      "outputs": [
        {
          "name": "stdout",
          "output_type": "stream",
          "text": [
            "Daily Standard Deviation 0.027309264635494324\n",
            "Annual Standard Deviation 0.4335211362814138\n",
            "\n",
            "\n",
            "Daily Variance 0.0007457959349314609\n",
            "Annual Variance 0.18794057560272817\n"
          ]
        }
      ],
      "source": [
        "# second moment - annual variance\n",
        "daily_std = np.std(stock_data['Returns'])\n",
        "print(\"Daily Standard Deviation \" + str(daily_std))\n",
        "annual_std = daily_std*np.sqrt(252)\n",
        "print(\"Annual Standard Deviation \" + str(annual_std ))\n",
        "\n",
        "print('\\n')\n",
        "\n",
        "daily_var= daily_std**2\n",
        "print(\"Daily Variance \" + str(daily_var))\n",
        "annual_var = annual_std**2\n",
        "print(\"Annual Variance \" + str(annual_var))"
      ]
    },
    {
      "cell_type": "code",
      "execution_count": 22,
      "metadata": {
        "colab": {
          "base_uri": "https://localhost:8080/"
        },
        "id": "7aTL3AqQtAE4",
        "outputId": "df32cd4d-dc6a-41ce-d5c6-ebf9e1954275"
      },
      "outputs": [
        {
          "name": "stdout",
          "output_type": "stream",
          "text": [
            "Skewness: 1.6417498944905877\n"
          ]
        }
      ],
      "source": [
        "import scipy\n",
        "from scipy.stats import skew\n",
        "\n",
        "# third moment - skewness\n",
        "returns = stock_data['Returns'].dropna()\n",
        "skewness = skew(returns)\n",
        "print(\"Skewness: \" + str(skewness))"
      ]
    },
    {
      "cell_type": "markdown",
      "metadata": {
        "id": "2vfVPAGotILf"
      },
      "source": [
        "## Decreasing stock model"
      ]
    },
    {
      "cell_type": "code",
      "execution_count": 23,
      "metadata": {
        "colab": {
          "base_uri": "https://localhost:8080/",
          "height": 252
        },
        "id": "gtVf0FyCtKja",
        "outputId": "049979a8-0c0e-4c57-ad99-e21e088b0c47"
      },
      "outputs": [
        {
          "name": "stdout",
          "output_type": "stream",
          "text": [
            "\r[*********************100%***********************]  1 of 1 completed\n"
          ]
        },
        {
          "data": {
            "text/html": [
              "\n",
              "  <div id=\"df-ccd0763b-a143-4fbb-b4e9-1611e5626016\">\n",
              "    <div class=\"colab-df-container\">\n",
              "      <div>\n",
              "<style scoped>\n",
              "    .dataframe tbody tr th:only-of-type {\n",
              "        vertical-align: middle;\n",
              "    }\n",
              "\n",
              "    .dataframe tbody tr th {\n",
              "        vertical-align: top;\n",
              "    }\n",
              "\n",
              "    .dataframe thead th {\n",
              "        text-align: right;\n",
              "    }\n",
              "</style>\n",
              "<table border=\"1\" class=\"dataframe\">\n",
              "  <thead>\n",
              "    <tr style=\"text-align: right;\">\n",
              "      <th></th>\n",
              "      <th>Open</th>\n",
              "      <th>High</th>\n",
              "      <th>Low</th>\n",
              "      <th>Close</th>\n",
              "      <th>Adj Close</th>\n",
              "      <th>Volume</th>\n",
              "    </tr>\n",
              "    <tr>\n",
              "      <th>Date</th>\n",
              "      <th></th>\n",
              "      <th></th>\n",
              "      <th></th>\n",
              "      <th></th>\n",
              "      <th></th>\n",
              "      <th></th>\n",
              "    </tr>\n",
              "  </thead>\n",
              "  <tbody>\n",
              "    <tr>\n",
              "      <th>2016-04-20 00:00:00-04:00</th>\n",
              "      <td>26.660000</td>\n",
              "      <td>27.022499</td>\n",
              "      <td>26.514999</td>\n",
              "      <td>26.782499</td>\n",
              "      <td>24.692825</td>\n",
              "      <td>122444000</td>\n",
              "    </tr>\n",
              "    <tr>\n",
              "      <th>2016-04-21 00:00:00-04:00</th>\n",
              "      <td>26.732500</td>\n",
              "      <td>26.732500</td>\n",
              "      <td>26.379999</td>\n",
              "      <td>26.492500</td>\n",
              "      <td>24.425457</td>\n",
              "      <td>126210000</td>\n",
              "    </tr>\n",
              "    <tr>\n",
              "      <th>2016-04-22 00:00:00-04:00</th>\n",
              "      <td>26.252501</td>\n",
              "      <td>26.620001</td>\n",
              "      <td>26.155001</td>\n",
              "      <td>26.420000</td>\n",
              "      <td>24.358614</td>\n",
              "      <td>134732400</td>\n",
              "    </tr>\n",
              "    <tr>\n",
              "      <th>2016-04-25 00:00:00-04:00</th>\n",
              "      <td>26.250000</td>\n",
              "      <td>26.412500</td>\n",
              "      <td>26.127501</td>\n",
              "      <td>26.270000</td>\n",
              "      <td>24.220318</td>\n",
              "      <td>112126400</td>\n",
              "    </tr>\n",
              "    <tr>\n",
              "      <th>2016-04-26 00:00:00-04:00</th>\n",
              "      <td>25.977501</td>\n",
              "      <td>26.325001</td>\n",
              "      <td>25.977501</td>\n",
              "      <td>26.087500</td>\n",
              "      <td>24.052053</td>\n",
              "      <td>224064800</td>\n",
              "    </tr>\n",
              "  </tbody>\n",
              "</table>\n",
              "</div>\n",
              "      <button class=\"colab-df-convert\" onclick=\"convertToInteractive('df-ccd0763b-a143-4fbb-b4e9-1611e5626016')\"\n",
              "              title=\"Convert this dataframe to an interactive table.\"\n",
              "              style=\"display:none;\">\n",
              "        \n",
              "  <svg xmlns=\"http://www.w3.org/2000/svg\" height=\"24px\"viewBox=\"0 0 24 24\"\n",
              "       width=\"24px\">\n",
              "    <path d=\"M0 0h24v24H0V0z\" fill=\"none\"/>\n",
              "    <path d=\"M18.56 5.44l.94 2.06.94-2.06 2.06-.94-2.06-.94-.94-2.06-.94 2.06-2.06.94zm-11 1L8.5 8.5l.94-2.06 2.06-.94-2.06-.94L8.5 2.5l-.94 2.06-2.06.94zm10 10l.94 2.06.94-2.06 2.06-.94-2.06-.94-.94-2.06-.94 2.06-2.06.94z\"/><path d=\"M17.41 7.96l-1.37-1.37c-.4-.4-.92-.59-1.43-.59-.52 0-1.04.2-1.43.59L10.3 9.45l-7.72 7.72c-.78.78-.78 2.05 0 2.83L4 21.41c.39.39.9.59 1.41.59.51 0 1.02-.2 1.41-.59l7.78-7.78 2.81-2.81c.8-.78.8-2.07 0-2.86zM5.41 20L4 18.59l7.72-7.72 1.47 1.35L5.41 20z\"/>\n",
              "  </svg>\n",
              "      </button>\n",
              "      \n",
              "  <style>\n",
              "    .colab-df-container {\n",
              "      display:flex;\n",
              "      flex-wrap:wrap;\n",
              "      gap: 12px;\n",
              "    }\n",
              "\n",
              "    .colab-df-convert {\n",
              "      background-color: #E8F0FE;\n",
              "      border: none;\n",
              "      border-radius: 50%;\n",
              "      cursor: pointer;\n",
              "      display: none;\n",
              "      fill: #1967D2;\n",
              "      height: 32px;\n",
              "      padding: 0 0 0 0;\n",
              "      width: 32px;\n",
              "    }\n",
              "\n",
              "    .colab-df-convert:hover {\n",
              "      background-color: #E2EBFA;\n",
              "      box-shadow: 0px 1px 2px rgba(60, 64, 67, 0.3), 0px 1px 3px 1px rgba(60, 64, 67, 0.15);\n",
              "      fill: #174EA6;\n",
              "    }\n",
              "\n",
              "    [theme=dark] .colab-df-convert {\n",
              "      background-color: #3B4455;\n",
              "      fill: #D2E3FC;\n",
              "    }\n",
              "\n",
              "    [theme=dark] .colab-df-convert:hover {\n",
              "      background-color: #434B5C;\n",
              "      box-shadow: 0px 1px 3px 1px rgba(0, 0, 0, 0.15);\n",
              "      filter: drop-shadow(0px 1px 2px rgba(0, 0, 0, 0.3));\n",
              "      fill: #FFFFFF;\n",
              "    }\n",
              "  </style>\n",
              "\n",
              "      <script>\n",
              "        const buttonEl =\n",
              "          document.querySelector('#df-ccd0763b-a143-4fbb-b4e9-1611e5626016 button.colab-df-convert');\n",
              "        buttonEl.style.display =\n",
              "          google.colab.kernel.accessAllowed ? 'block' : 'none';\n",
              "\n",
              "        async function convertToInteractive(key) {\n",
              "          const element = document.querySelector('#df-ccd0763b-a143-4fbb-b4e9-1611e5626016');\n",
              "          const dataTable =\n",
              "            await google.colab.kernel.invokeFunction('convertToInteractive',\n",
              "                                                     [key], {});\n",
              "          if (!dataTable) return;\n",
              "\n",
              "          const docLinkHtml = 'Like what you see? Visit the ' +\n",
              "            '<a target=\"_blank\" href=https://colab.research.google.com/notebooks/data_table.ipynb>data table notebook</a>'\n",
              "            + ' to learn more about interactive tables.';\n",
              "          element.innerHTML = '';\n",
              "          dataTable['output_type'] = 'display_data';\n",
              "          await google.colab.output.renderOutput(dataTable, element);\n",
              "          const docLink = document.createElement('div');\n",
              "          docLink.innerHTML = docLinkHtml;\n",
              "          element.appendChild(docLink);\n",
              "        }\n",
              "      </script>\n",
              "    </div>\n",
              "  </div>\n",
              "  "
            ],
            "text/plain": [
              "                                Open       High        Low      Close  \\\n",
              "Date                                                                    \n",
              "2016-04-20 00:00:00-04:00  26.660000  27.022499  26.514999  26.782499   \n",
              "2016-04-21 00:00:00-04:00  26.732500  26.732500  26.379999  26.492500   \n",
              "2016-04-22 00:00:00-04:00  26.252501  26.620001  26.155001  26.420000   \n",
              "2016-04-25 00:00:00-04:00  26.250000  26.412500  26.127501  26.270000   \n",
              "2016-04-26 00:00:00-04:00  25.977501  26.325001  25.977501  26.087500   \n",
              "\n",
              "                           Adj Close     Volume  \n",
              "Date                                             \n",
              "2016-04-20 00:00:00-04:00  24.692825  122444000  \n",
              "2016-04-21 00:00:00-04:00  24.425457  126210000  \n",
              "2016-04-22 00:00:00-04:00  24.358614  134732400  \n",
              "2016-04-25 00:00:00-04:00  24.220318  112126400  \n",
              "2016-04-26 00:00:00-04:00  24.052053  224064800  "
            ]
          },
          "execution_count": 23,
          "metadata": {},
          "output_type": "execute_result"
        }
      ],
      "source": [
        "# get the data for returns\n",
        "start = datetime.datetime(2016,4,13)\n",
        "end = datetime.datetime(2016,4,27)\n",
        "stock_data = yf.download(ticker, start, end)\n",
        "stock_data.tail()"
      ]
    },
    {
      "cell_type": "code",
      "execution_count": 24,
      "metadata": {
        "colab": {
          "base_uri": "https://localhost:8080/",
          "height": 486
        },
        "id": "ZUK3YD2btO43",
        "outputId": "ff9844b3-39ac-4b6a-e17d-8d7ac9ea4b09"
      },
      "outputs": [
        {
          "data": {
            "text/plain": [
              "<matplotlib.legend.Legend at 0x7f668dc9da10>"
            ]
          },
          "execution_count": 24,
          "metadata": {},
          "output_type": "execute_result"
        },
        {
          "data": {
            "image/png": "[encoded data removed]",
            "text/plain": [
              "<Figure size 576x504 with 1 Axes>"
            ]
          },
          "metadata": {},
          "output_type": "display_data"
        }
      ],
      "source": [
        "# plot the return graph\n",
        "stock_data['Returns'] = stock_data['Adj Close'].pct_change()\n",
        "stock_data['Returns'].plot(color='#660099')\n",
        "plt.legend()"
      ]
    },
    {
      "cell_type": "code",
      "execution_count": 25,
      "metadata": {
        "colab": {
          "base_uri": "https://localhost:8080/",
          "height": 836
        },
        "id": "2gDJ0tpZtRi5",
        "outputId": "dc306e3d-d2ca-432a-dc56-a6b9b624f4b5"
      },
      "outputs": [
        {
          "data": {
            "text/plain": [
              "((array([1., 0., 0., 0., 1., 0., 0., 0., 0., 0., 0., 0., 0., 0., 0., 0., 0.,\n",
              "         0., 0., 0., 0., 0., 0., 0., 0., 0., 0., 0., 0., 0., 0., 0., 0., 0.,\n",
              "         1., 0., 0., 0., 0., 0., 0., 0., 0., 0., 0., 0., 1., 0., 0., 0., 1.,\n",
              "         1., 0., 0., 0., 0., 0., 0., 0., 1., 0., 0., 0., 0., 0., 0., 0., 0.,\n",
              "         0., 0., 1., 0., 0., 0., 1.]),\n",
              "  array([-2.15749282, -2.1259825 , -2.09447218, -2.06296187, -2.03145155,\n",
              "         -1.99994124, -1.96843092, -1.9369206 , -1.90541029, -1.87389997,\n",
              "         -1.84238965, -1.81087934, -1.77936902, -1.74785871, -1.71634839,\n",
              "         -1.68483807, -1.65332776, -1.62181744, -1.59030712, -1.55879681,\n",
              "         -1.52728649, -1.49577617, -1.46426586, -1.43275554, -1.40124523,\n",
              "         -1.36973491, -1.33822459, -1.30671428, -1.27520396, -1.24369364,\n",
              "         -1.21218333, -1.18067301, -1.1491627 , -1.11765238, -1.08614206,\n",
              "         -1.05463175, -1.02312143, -0.99161111, -0.9601008 , -0.92859048,\n",
              "         -0.89708016, -0.86556985, -0.83405953, -0.80254922, -0.7710389 ,\n",
              "         -0.73952858, -0.70801827, -0.67650795, -0.64499763, -0.61348732,\n",
              "         -0.581977  , -0.55046669, -0.51895637, -0.48744605, -0.45593574,\n",
              "         -0.42442542, -0.3929151 , -0.36140479, -0.32989447, -0.29838415,\n",
              "         -0.26687384, -0.23536352, -0.20385321, -0.17234289, -0.14083257,\n",
              "         -0.10932226, -0.07781194, -0.04630162, -0.01479131,  0.01671901,\n",
              "          0.04822932,  0.07973964,  0.11124996,  0.14276027,  0.17427059,\n",
              "          0.20578091]),\n",
              "  <BarContainer object of 75 artists>),\n",
              " Text(0.5, 0, 'Percentage of Returns'))"
            ]
          },
          "execution_count": 25,
          "metadata": {},
          "output_type": "execute_result"
        },
        {
          "data": {
            "image/png": "[encoded data removed]",
            "text/plain": [
              "<Figure size 576x504 with 1 Axes>"
            ]
          },
          "metadata": {},
          "output_type": "display_data"
        }
      ],
      "source": [
        "# histogram\n",
        "returns_percent = stock_data['Returns'] * 100\n",
        "returns_percent.dropna(inplace=True)\n",
        "plt.hist(returns_percent, bins=75, color='#7100a0'), plt.xlabel(\"Percentage of Returns\")"
      ]
    },
    {
      "cell_type": "code",
      "execution_count": 26,
      "metadata": {
        "colab": {
          "base_uri": "https://localhost:8080/"
        },
        "id": "BW9MBHsftUFI",
        "outputId": "ec1755b0-b887-44ad-9a02-4432d916ae9c"
      },
      "outputs": [
        {
          "name": "stdout",
          "output_type": "stream",
          "text": [
            "Daily Mean Returns: -0.007838403825492588\n",
            "Annual Mean Returns: -0.8623526046452425\n"
          ]
        }
      ],
      "source": [
        "# first moment\n",
        "import numpy as np\n",
        "\n",
        "daily_mean_returns = np.mean(stock_data['Returns'])\n",
        "print(\"Daily Mean Returns: \" + str(daily_mean_returns))\n",
        "\n",
        "annual_mean_returns = ((1+ daily_mean_returns)**252)-1\n",
        "print(\"Annual Mean Returns: \" + str(annual_mean_returns))"
      ]
    },
    {
      "cell_type": "code",
      "execution_count": 27,
      "metadata": {
        "colab": {
          "base_uri": "https://localhost:8080/"
        },
        "id": "kwxR0D63tW1h",
        "outputId": "275da4ab-20c2-4a78-ba35-4fb3eaabe48d"
      },
      "outputs": [
        {
          "name": "stdout",
          "output_type": "stream",
          "text": [
            "Daily Standard Deviation 0.007840406155051138\n",
            "Annual Standard Deviation 0.12446258918403261\n",
            "\n",
            "\n",
            "Daily Variance 6.147196867616377e-05\n",
            "Annual Variance 0.015490936106393271\n"
          ]
        }
      ],
      "source": [
        "# second moment\n",
        "daily_std = np.std(stock_data['Returns'])\n",
        "print(\"Daily Standard Deviation \" + str(daily_std))\n",
        "annual_std = daily_std*np.sqrt(252)\n",
        "print(\"Annual Standard Deviation \" + str(annual_std ))\n",
        "\n",
        "print('\\n')\n",
        "\n",
        "daily_var= daily_std**2\n",
        "print(\"Daily Variance \" + str(daily_var))\n",
        "annual_var = annual_std**2\n",
        "print(\"Annual Variance \" + str(annual_var))"
      ]
    },
    {
      "cell_type": "code",
      "execution_count": 28,
      "metadata": {
        "colab": {
          "base_uri": "https://localhost:8080/"
        },
        "id": "ZEk4y0CxtZbe",
        "outputId": "d994310b-5d4f-47bf-919f-4d05280e1a55"
      },
      "outputs": [
        {
          "name": "stdout",
          "output_type": "stream",
          "text": [
            "Skewness: -0.630072537239406\n"
          ]
        }
      ],
      "source": [
        "# third moment\n",
        "import scipy\n",
        "from scipy.stats import skew\n",
        "\n",
        "returns = stock_data['Returns'].dropna()\n",
        "skewness = skew(returns)\n",
        "print(\"Skewness: \" + str(skewness))"
      ]
    },
    {
      "cell_type": "markdown",
      "metadata": {
        "id": "C12QSapUteYg"
      },
      "source": [
        "## Relatively stable stock model"
      ]
    },
    {
      "cell_type": "code",
      "execution_count": 29,
      "metadata": {
        "colab": {
          "base_uri": "https://localhost:8080/",
          "height": 252
        },
        "id": "-D3RQIFOtiEy",
        "outputId": "5b74c5ac-8be8-435d-c15e-4ef7fe1f9c10"
      },
      "outputs": [
        {
          "name": "stdout",
          "output_type": "stream",
          "text": [
            "\r[*********************100%***********************]  1 of 1 completed\n"
          ]
        },
        {
          "data": {
            "text/html": [
              "\n",
              "  <div id=\"df-39a93012-f166-42cd-b203-e6cf7f781f81\">\n",
              "    <div class=\"colab-df-container\">\n",
              "      <div>\n",
              "<style scoped>\n",
              "    .dataframe tbody tr th:only-of-type {\n",
              "        vertical-align: middle;\n",
              "    }\n",
              "\n",
              "    .dataframe tbody tr th {\n",
              "        vertical-align: top;\n",
              "    }\n",
              "\n",
              "    .dataframe thead th {\n",
              "        text-align: right;\n",
              "    }\n",
              "</style>\n",
              "<table border=\"1\" class=\"dataframe\">\n",
              "  <thead>\n",
              "    <tr style=\"text-align: right;\">\n",
              "      <th></th>\n",
              "      <th>Open</th>\n",
              "      <th>High</th>\n",
              "      <th>Low</th>\n",
              "      <th>Close</th>\n",
              "      <th>Adj Close</th>\n",
              "      <th>Volume</th>\n",
              "    </tr>\n",
              "    <tr>\n",
              "      <th>Date</th>\n",
              "      <th></th>\n",
              "      <th></th>\n",
              "      <th></th>\n",
              "      <th></th>\n",
              "      <th></th>\n",
              "      <th></th>\n",
              "    </tr>\n",
              "  </thead>\n",
              "  <tbody>\n",
              "    <tr>\n",
              "      <th>2014-02-10 00:00:00-05:00</th>\n",
              "      <td>18.523571</td>\n",
              "      <td>18.999643</td>\n",
              "      <td>18.500000</td>\n",
              "      <td>18.892500</td>\n",
              "      <td>16.782969</td>\n",
              "      <td>345559200</td>\n",
              "    </tr>\n",
              "    <tr>\n",
              "      <th>2014-02-11 00:00:00-05:00</th>\n",
              "      <td>18.950357</td>\n",
              "      <td>19.205357</td>\n",
              "      <td>18.910713</td>\n",
              "      <td>19.141430</td>\n",
              "      <td>17.004095</td>\n",
              "      <td>282256800</td>\n",
              "    </tr>\n",
              "    <tr>\n",
              "      <th>2014-02-12 00:00:00-05:00</th>\n",
              "      <td>19.176786</td>\n",
              "      <td>19.270000</td>\n",
              "      <td>19.044287</td>\n",
              "      <td>19.139999</td>\n",
              "      <td>17.002829</td>\n",
              "      <td>308100800</td>\n",
              "    </tr>\n",
              "    <tr>\n",
              "      <th>2014-02-13 00:00:00-05:00</th>\n",
              "      <td>19.094999</td>\n",
              "      <td>19.458929</td>\n",
              "      <td>19.078571</td>\n",
              "      <td>19.443930</td>\n",
              "      <td>17.272820</td>\n",
              "      <td>307398000</td>\n",
              "    </tr>\n",
              "    <tr>\n",
              "      <th>2014-02-14 00:00:00-05:00</th>\n",
              "      <td>19.373928</td>\n",
              "      <td>19.499287</td>\n",
              "      <td>19.328930</td>\n",
              "      <td>19.428213</td>\n",
              "      <td>17.258862</td>\n",
              "      <td>272924400</td>\n",
              "    </tr>\n",
              "  </tbody>\n",
              "</table>\n",
              "</div>\n",
              "      <button class=\"colab-df-convert\" onclick=\"convertToInteractive('df-39a93012-f166-42cd-b203-e6cf7f781f81')\"\n",
              "              title=\"Convert this dataframe to an interactive table.\"\n",
              "              style=\"display:none;\">\n",
              "        \n",
              "  <svg xmlns=\"http://www.w3.org/2000/svg\" height=\"24px\"viewBox=\"0 0 24 24\"\n",
              "       width=\"24px\">\n",
              "    <path d=\"M0 0h24v24H0V0z\" fill=\"none\"/>\n",
              "    <path d=\"M18.56 5.44l.94 2.06.94-2.06 2.06-.94-2.06-.94-.94-2.06-.94 2.06-2.06.94zm-11 1L8.5 8.5l.94-2.06 2.06-.94-2.06-.94L8.5 2.5l-.94 2.06-2.06.94zm10 10l.94 2.06.94-2.06 2.06-.94-2.06-.94-.94-2.06-.94 2.06-2.06.94z\"/><path d=\"M17.41 7.96l-1.37-1.37c-.4-.4-.92-.59-1.43-.59-.52 0-1.04.2-1.43.59L10.3 9.45l-7.72 7.72c-.78.78-.78 2.05 0 2.83L4 21.41c.39.39.9.59 1.41.59.51 0 1.02-.2 1.41-.59l7.78-7.78 2.81-2.81c.8-.78.8-2.07 0-2.86zM5.41 20L4 18.59l7.72-7.72 1.47 1.35L5.41 20z\"/>\n",
              "  </svg>\n",
              "      </button>\n",
              "      \n",
              "  <style>\n",
              "    .colab-df-container {\n",
              "      display:flex;\n",
              "      flex-wrap:wrap;\n",
              "      gap: 12px;\n",
              "    }\n",
              "\n",
              "    .colab-df-convert {\n",
              "      background-color: #E8F0FE;\n",
              "      border: none;\n",
              "      border-radius: 50%;\n",
              "      cursor: pointer;\n",
              "      display: none;\n",
              "      fill: #1967D2;\n",
              "      height: 32px;\n",
              "      padding: 0 0 0 0;\n",
              "      width: 32px;\n",
              "    }\n",
              "\n",
              "    .colab-df-convert:hover {\n",
              "      background-color: #E2EBFA;\n",
              "      box-shadow: 0px 1px 2px rgba(60, 64, 67, 0.3), 0px 1px 3px 1px rgba(60, 64, 67, 0.15);\n",
              "      fill: #174EA6;\n",
              "    }\n",
              "\n",
              "    [theme=dark] .colab-df-convert {\n",
              "      background-color: #3B4455;\n",
              "      fill: #D2E3FC;\n",
              "    }\n",
              "\n",
              "    [theme=dark] .colab-df-convert:hover {\n",
              "      background-color: #434B5C;\n",
              "      box-shadow: 0px 1px 3px 1px rgba(0, 0, 0, 0.15);\n",
              "      filter: drop-shadow(0px 1px 2px rgba(0, 0, 0, 0.3));\n",
              "      fill: #FFFFFF;\n",
              "    }\n",
              "  </style>\n",
              "\n",
              "      <script>\n",
              "        const buttonEl =\n",
              "          document.querySelector('#df-39a93012-f166-42cd-b203-e6cf7f781f81 button.colab-df-convert');\n",
              "        buttonEl.style.display =\n",
              "          google.colab.kernel.accessAllowed ? 'block' : 'none';\n",
              "\n",
              "        async function convertToInteractive(key) {\n",
              "          const element = document.querySelector('#df-39a93012-f166-42cd-b203-e6cf7f781f81');\n",
              "          const dataTable =\n",
              "            await google.colab.kernel.invokeFunction('convertToInteractive',\n",
              "                                                     [key], {});\n",
              "          if (!dataTable) return;\n",
              "\n",
              "          const docLinkHtml = 'Like what you see? Visit the ' +\n",
              "            '<a target=\"_blank\" href=https://colab.research.google.com/notebooks/data_table.ipynb>data table notebook</a>'\n",
              "            + ' to learn more about interactive tables.';\n",
              "          element.innerHTML = '';\n",
              "          dataTable['output_type'] = 'display_data';\n",
              "          await google.colab.output.renderOutput(dataTable, element);\n",
              "          const docLink = document.createElement('div');\n",
              "          docLink.innerHTML = docLinkHtml;\n",
              "          element.appendChild(docLink);\n",
              "        }\n",
              "      </script>\n",
              "    </div>\n",
              "  </div>\n",
              "  "
            ],
            "text/plain": [
              "                                Open       High        Low      Close  \\\n",
              "Date                                                                    \n",
              "2014-02-10 00:00:00-05:00  18.523571  18.999643  18.500000  18.892500   \n",
              "2014-02-11 00:00:00-05:00  18.950357  19.205357  18.910713  19.141430   \n",
              "2014-02-12 00:00:00-05:00  19.176786  19.270000  19.044287  19.139999   \n",
              "2014-02-13 00:00:00-05:00  19.094999  19.458929  19.078571  19.443930   \n",
              "2014-02-14 00:00:00-05:00  19.373928  19.499287  19.328930  19.428213   \n",
              "\n",
              "                           Adj Close     Volume  \n",
              "Date                                             \n",
              "2014-02-10 00:00:00-05:00  16.782969  345559200  \n",
              "2014-02-11 00:00:00-05:00  17.004095  282256800  \n",
              "2014-02-12 00:00:00-05:00  17.002829  308100800  \n",
              "2014-02-13 00:00:00-05:00  17.272820  307398000  \n",
              "2014-02-14 00:00:00-05:00  17.258862  272924400  "
            ]
          },
          "execution_count": 29,
          "metadata": {},
          "output_type": "execute_result"
        }
      ],
      "source": [
        "# get the data for returns\n",
        "start = datetime.datetime(2014,1,29)\n",
        "end = datetime.datetime(2014,2,15)\n",
        "stock_data = yf.download(ticker, start, end)\n",
        "stock_data.tail()"
      ]
    },
    {
      "cell_type": "code",
      "execution_count": 30,
      "metadata": {
        "colab": {
          "base_uri": "https://localhost:8080/",
          "height": 486
        },
        "id": "PL9STh2Utmkz",
        "outputId": "6de2f751-f53b-44a4-91bc-48f105c93b78"
      },
      "outputs": [
        {
          "data": {
            "text/plain": [
              "<matplotlib.legend.Legend at 0x7f668dac4490>"
            ]
          },
          "execution_count": 30,
          "metadata": {},
          "output_type": "execute_result"
        },
        {
          "data": {
            "image/png": "[encoded data removed]",
            "text/plain": [
              "<Figure size 576x504 with 1 Axes>"
            ]
          },
          "metadata": {},
          "output_type": "display_data"
        }
      ],
      "source": [
        "# plot the return graph\n",
        "stock_data['Returns'] = stock_data['Adj Close'].pct_change()\n",
        "stock_data['Returns'].plot(color='#660099')\n",
        "plt.legend()"
      ]
    },
    {
      "cell_type": "code",
      "execution_count": 31,
      "metadata": {
        "colab": {
          "base_uri": "https://localhost:8080/",
          "height": 836
        },
        "id": "yKze5dsRtpez",
        "outputId": "0f0f573f-d6a9-4255-9f46-0a3779f6d90f"
      },
      "outputs": [
        {
          "data": {
            "text/plain": [
              "((array([1., 0., 0., 0., 1., 0., 0., 1., 0., 0., 0., 0., 0., 1., 1., 0., 0.,\n",
              "         0., 0., 0., 0., 0., 0., 0., 0., 0., 0., 0., 0., 1., 0., 0., 0., 0.,\n",
              "         0., 1., 0., 0., 0., 0., 0., 0., 0., 0., 0., 0., 0., 0., 0., 0., 0.,\n",
              "         0., 0., 0., 0., 0., 0., 1., 0., 0., 1., 0., 1., 0., 0., 0., 0., 1.,\n",
              "         0., 0., 0., 0., 0., 0., 1.]),\n",
              "  array([-0.19371226, -0.16724271, -0.14077317, -0.11430362, -0.08783408,\n",
              "         -0.06136453, -0.03489498, -0.00842544,  0.01804411,  0.04451365,\n",
              "          0.0709832 ,  0.09745274,  0.12392229,  0.15039183,  0.17686138,\n",
              "          0.20333092,  0.22980047,  0.25627001,  0.28273956,  0.30920911,\n",
              "          0.33567865,  0.3621482 ,  0.38861774,  0.41508729,  0.44155683,\n",
              "          0.46802638,  0.49449592,  0.52096547,  0.54743501,  0.57390456,\n",
              "          0.6003741 ,  0.62684365,  0.65331319,  0.67978274,  0.70625229,\n",
              "          0.73272183,  0.75919138,  0.78566092,  0.81213047,  0.83860001,\n",
              "          0.86506956,  0.8915391 ,  0.91800865,  0.94447819,  0.97094774,\n",
              "          0.99741728,  1.02388683,  1.05035637,  1.07682592,  1.10329547,\n",
              "          1.12976501,  1.15623456,  1.1827041 ,  1.20917365,  1.23564319,\n",
              "          1.26211274,  1.28858228,  1.31505183,  1.34152137,  1.36799092,\n",
              "          1.39446046,  1.42093001,  1.44739955,  1.4738691 ,  1.50033865,\n",
              "          1.52680819,  1.55327774,  1.57974728,  1.60621683,  1.63268637,\n",
              "          1.65915592,  1.68562546,  1.71209501,  1.73856455,  1.7650341 ,\n",
              "          1.79150364]),\n",
              "  <BarContainer object of 75 artists>),\n",
              " Text(0.5, 0, 'Percentage of Returns'))"
            ]
          },
          "execution_count": 31,
          "metadata": {},
          "output_type": "execute_result"
        },
        {
          "data": {
            "image/png": "[encoded data removed]",
            "text/plain": [
              "<Figure size 576x504 with 1 Axes>"
            ]
          },
          "metadata": {},
          "output_type": "display_data"
        }
      ],
      "source": [
        "# histogram\n",
        "returns_percent = stock_data['Returns'] * 100\n",
        "returns_percent.dropna(inplace=True)\n",
        "plt.hist(returns_percent, bins=75, color='#7100a0'), plt.xlabel(\"Percentage of Returns\")"
      ]
    },
    {
      "cell_type": "code",
      "execution_count": 32,
      "metadata": {
        "colab": {
          "base_uri": "https://localhost:8080/"
        },
        "id": "4bmYYVjStsKl",
        "outputId": "06572bcb-dd50-427c-9ae3-04d86aaf4a14"
      },
      "outputs": [
        {
          "name": "stdout",
          "output_type": "stream",
          "text": [
            "Daily Mean Returns: 0.007451005292547404\n",
            "Annual Mean Returns: 5.492792306740242\n"
          ]
        }
      ],
      "source": [
        "# first moment\n",
        "import numpy as np\n",
        "\n",
        "daily_mean_returns = np.mean(stock_data['Returns'])\n",
        "print(\"Daily Mean Returns: \" + str(daily_mean_returns))\n",
        "\n",
        "annual_mean_returns = ((1+ daily_mean_returns)**252)-1\n",
        "print(\"Annual Mean Returns: \" + str(annual_mean_returns))"
      ]
    },
    {
      "cell_type": "code",
      "execution_count": 33,
      "metadata": {
        "colab": {
          "base_uri": "https://localhost:8080/"
        },
        "id": "RnDUb4v9tup8",
        "outputId": "2fc429f9-cef5-4daa-e27c-fc9945c7e2a1"
      },
      "outputs": [
        {
          "name": "stdout",
          "output_type": "stream",
          "text": [
            "Daily Standard Deviation 0.00698848893078803\n",
            "Annual Standard Deviation 0.11093882250595687\n",
            "\n",
            "\n",
            "Daily Variance 4.883897753574682e-05\n",
            "Annual Variance 0.012307422339008202\n"
          ]
        }
      ],
      "source": [
        "# second moment\n",
        "daily_std = np.std(stock_data['Returns'])\n",
        "print(\"Daily Standard Deviation \" + str(daily_std))\n",
        "annual_std = daily_std*np.sqrt(252)\n",
        "print(\"Annual Standard Deviation \" + str(annual_std ))\n",
        "\n",
        "print('\\n')\n",
        "\n",
        "daily_var= daily_std**2\n",
        "print(\"Daily Variance \" + str(daily_var))\n",
        "annual_var = annual_std**2\n",
        "print(\"Annual Variance \" + str(annual_var))"
      ]
    },
    {
      "cell_type": "code",
      "execution_count": 34,
      "metadata": {
        "colab": {
          "base_uri": "https://localhost:8080/"
        },
        "id": "5ZpH74smtw7D",
        "outputId": "3feb7991-ed99-498e-a500-d349bcb6ddd3"
      },
      "outputs": [
        {
          "name": "stdout",
          "output_type": "stream",
          "text": [
            "Skewness: 0.089347060190772\n"
          ]
        }
      ],
      "source": [
        "# third moment\n",
        "import scipy\n",
        "from scipy.stats import skew\n",
        "\n",
        "returns = stock_data['Returns'].dropna()\n",
        "skewness = skew(returns)\n",
        "print(\"Skewness: \" + str(skewness))"
      ]
    }
  ],
  "metadata": {
    "colab": {
      "provenance": []
    },
    "kernelspec": {
      "display_name": "Python 3",
      "name": "python3"
    },
    "language_info": {
      "name": "python"
    }
  },
  "nbformat": 4,
  "nbformat_minor": 0
}
